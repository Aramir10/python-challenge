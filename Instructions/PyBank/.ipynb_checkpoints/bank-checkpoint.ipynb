# -*- coding: utf-8 -*-
"""
Created on Sat Oct  9 15:37:26 2021

@author: Vik210
"""

import os 
import pandas as pd

#df=pd.read_csv('Resources', 'budget_data.csv')
#df.head()

csvpath = os.path.join('Resources', 'budget_data.csv')
with open(csvpath) as csvfile:
    
    
    csvreader = csv.reader(cspath, delimiter=',')
csvpath.head()